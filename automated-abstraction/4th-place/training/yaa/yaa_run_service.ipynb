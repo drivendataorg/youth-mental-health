{
 "cells": [
  {
   "cell_type": "markdown",
   "id": "impossible-seventh",
   "metadata": {},
   "source": [
    "# env"
   ]
  },
  {
   "cell_type": "code",
   "execution_count": 1,
   "id": "designed-teach",
   "metadata": {},
   "outputs": [
    {
     "name": "stdout",
     "output_type": "stream",
     "text": [
      "24\n"
     ]
    }
   ],
   "source": [
    "import os, sys, logging, json, pandas as pd, numpy as np\n",
    "from glob import glob\n",
    "from tqdm import tqdm\n",
    "from multiprocessing import cpu_count\n",
    "print(cpu_count())\n",
    "\n",
    "import warnings\n",
    "warnings.filterwarnings(\"ignore\")\n",
    "PROJECT = \"yaa\"\n",
    "                                          \n",
    "#WORKDIR = os.path.abspath(f\"{PATH TO CODE}/{PROJECT}\")\n",
    "WORKDIR = os.path.abspath(\"./\")\n",
    "os.chdir(WORKDIR)\n",
    "\n",
    "OUTPUTDIR=os.path.join(WORKDIR, \"data\")\n",
    "DATADIR = os.path.join(WORKDIR, 'data')\n",
    "NUM = int(1e16)\n",
    "\n",
    "BATCHSIZE = 512\n",
    "\n",
    "sys.path.insert(0, WORKDIR)\n",
    "os.environ['PYTHONPATH']=WORKDIR\n",
    "\n",
    "\n",
    "os.chdir(os.path.join(WORKDIR, PROJECT))\n",
    "import util\n",
    "from importlib import reload\n",
    "reload(util)\n",
    "args = util.parser.parse_args([])\n",
    "util.set_logger(logging.INFO)"
   ]
  },
  {
   "cell_type": "markdown",
   "id": "42c40661-97f9-4fb0-b3cc-dffc0ec6c47d",
   "metadata": {},
   "source": [
    "# vllm service"
   ]
  },
  {
   "cell_type": "markdown",
   "id": "d09abc8e-db2b-4167-b6a9-c6d27308b7a9",
   "metadata": {},
   "source": [
    "## Qwen/Qwen2-7B-Instruct"
   ]
  },
  {
   "cell_type": "code",
   "execution_count": null,
   "id": "38bb3d13-a26b-4bf3-bf3e-6ed0ceb6653e",
   "metadata": {},
   "outputs": [],
   "source": [
    "MODELID=\"Qwen/Qwen2-7B-Instruct\"\n",
    "!TRANSFORMERS_OFFLINE=1 python -m  \"vllm.entrypoints.openai.api_server\"   --model \"{MODELID}\" \\\n",
    "--max_model_len 8192 --host 127.0.0.1 --port 6666 --dtype \"bfloat16\" --served-model-name qw2_7b --gpu-memory-utilization \"0.95\" --disable-log-requests"
   ]
  },
  {
   "cell_type": "markdown",
   "id": "00a518e6-30a3-4f32-be46-b1ccd190fb06",
   "metadata": {},
   "source": [
    "## Qwen/Qwen2.5-7B-Instruct"
   ]
  },
  {
   "cell_type": "code",
   "execution_count": null,
   "id": "78518e7b-4d62-46e1-b449-8949387b2283",
   "metadata": {},
   "outputs": [],
   "source": [
    "\n",
    "MODELID=\"Qwen/Qwen2.5-7B-Instruct\"\n",
    "!TRANSFORMERS_OFFLINE=1 python -m  \"vllm.entrypoints.openai.api_server\"   --model \"{MODELID}\" \\\n",
    "--max_model_len 8192 --host 127.0.0.1 --port 6666 --dtype \"bfloat16\" --served-model-name qw2d5_7b --gpu-memory-utilization \"0.95\" --disable-log-requests"
   ]
  },
  {
   "cell_type": "markdown",
   "id": "13416d1b-dee8-4d8f-b2fb-47bfd99dabef",
   "metadata": {},
   "source": [
    "## mistralai/Mistral-7B-Instruct-v0.3"
   ]
  },
  {
   "cell_type": "code",
   "execution_count": null,
   "id": "edfa87c4-aadb-4182-a3a2-1c552068121d",
   "metadata": {},
   "outputs": [],
   "source": [
    "## \n",
    "MODELID=\"mistralai/Mistral-7B-Instruct-v0.3\"\n",
    "!TRANSFORMERS_OFFLINE=1 python -m  \"vllm.entrypoints.openai.api_server\"   --model \"{MODELID}\" \\\n",
    "--max_model_len 8192 --host 127.0.0.1 --port 6666 --dtype \"bfloat16\" --served-model-name mistral0d3_7b --gpu-memory-utilization \"0.9\" --disable-log-requests"
   ]
  },
  {
   "cell_type": "markdown",
   "id": "25e1c4c3-401a-4ea0-85e5-b713d19325df",
   "metadata": {},
   "source": [
    "## unsloth/llama-3-8b-Instruct"
   ]
  },
  {
   "cell_type": "code",
   "execution_count": null,
   "id": "1973b2a4-1008-469e-8c75-b0b2edac3187",
   "metadata": {},
   "outputs": [],
   "source": [
    "\n",
    "MODELID=\"unsloth/llama-3-8b-Instruct\"\n",
    "!TRANSFORMERS_OFFLINE=1 python -m  \"vllm.entrypoints.openai.api_server\"   --model \"{MODELID}\" \\\n",
    "--max_model_len 8192 --host 127.0.0.1 --port 6666 --dtype \"bfloat16\" --served-model-name llama3_8b --gpu-memory-utilization \"0.9\" --disable-log-requests"
   ]
  },
  {
   "cell_type": "markdown",
   "id": "f872cf3e-138e-4be3-bc97-d0353194f38f",
   "metadata": {},
   "source": [
    "## unsloth/Meta-Llama-3.1-8B-Instruct"
   ]
  },
  {
   "cell_type": "code",
   "execution_count": null,
   "id": "57d8dc1a-5e3c-4144-ba80-66b4cb2557a4",
   "metadata": {},
   "outputs": [],
   "source": [
    "\n",
    "MODELID=\"unsloth/Meta-Llama-3.1-8B-Instruct\"\n",
    "!TRANSFORMERS_OFFLINE=1 python -m  \"vllm.entrypoints.openai.api_server\"   --model \"{MODELID}\" \\\n",
    "--max_model_len 8192 --host 127.0.0.1 --port 6666 --dtype \"bfloat16\" --served-model-name llama3d1_8b --gpu-memory-utilization \"0.9\" --disable-log-requests"
   ]
  },
  {
   "cell_type": "markdown",
   "id": "402f7578-c3c1-4507-ac7a-8261067b798a",
   "metadata": {},
   "source": [
    "## microsoft/Phi-3-small-8k-instruct"
   ]
  },
  {
   "cell_type": "code",
   "execution_count": null,
   "id": "f1c0ccaf-8542-4617-a082-e5e86265894c",
   "metadata": {},
   "outputs": [],
   "source": [
    "\n",
    "MODELID=\"microsoft/Phi-3-small-8k-instruct\"\n",
    "!TRANSFORMERS_OFFLINE=1 python -m  \"vllm.entrypoints.openai.api_server\"   --model \"{MODELID}\" \\\n",
    "--max_model_len 8192 --host 127.0.0.1 --port 6666 --dtype \"bfloat16\" --served-model-name phi3_small --gpu-memory-utilization \"0.95\" --disable-log-requests --trust_remote_code"
   ]
  },
  {
   "cell_type": "markdown",
   "id": "9f771698-032c-40a6-bbcf-7f96f9b75687",
   "metadata": {},
   "source": [
    "## 01-ai/Yi-1.5-9B-Chat-16K"
   ]
  },
  {
   "cell_type": "code",
   "execution_count": null,
   "id": "6991bbfb-5e4d-4ec3-8d08-ca50296d5435",
   "metadata": {},
   "outputs": [],
   "source": [
    "\n",
    "MODELID=\"01-ai/Yi-1.5-9B-Chat-16K\"\n",
    "!TRANSFORMERS_OFFLINE=1 python -m  \"vllm.entrypoints.openai.api_server\"   --model \"{MODELID}\" \\\n",
    "--max_model_len 8192 --host 127.0.0.1 --port 6666 --dtype \"bfloat16\" --served-model-name yi1d5_9b --gpu-memory-utilization \"0.9\" --disable-log-requests"
   ]
  }
 ],
 "metadata": {
  "kernelspec": {
   "display_name": "Python 3 (ipykernel)",
   "language": "python",
   "name": "python3"
  },
  "language_info": {
   "codemirror_mode": {
    "name": "ipython",
    "version": 3
   },
   "file_extension": ".py",
   "mimetype": "text/x-python",
   "name": "python",
   "nbconvert_exporter": "python",
   "pygments_lexer": "ipython3",
   "version": "3.10.14"
  },
  "toc-autonumbering": true
 },
 "nbformat": 4,
 "nbformat_minor": 5
}
