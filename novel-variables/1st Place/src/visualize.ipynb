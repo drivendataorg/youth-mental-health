{
 "cells": [
  {
   "cell_type": "code",
   "execution_count": null,
   "metadata": {},
   "outputs": [],
   "source": [
    "import os\n",
    "import pandas as pd"
   ]
  },
  {
   "cell_type": "code",
   "execution_count": null,
   "metadata": {},
   "outputs": [],
   "source": [
    "from statistics import median\n",
    "\n",
    "import plotly.graph_objects as go\n",
    "\n",
    "def transition_to_nodes_and_links_v2(input_df, name_label='name', count_label='count'):\n",
    "    name_count_df = input_df.copy()\n",
    "    transition_to_metadata = {}\n",
    "\n",
    "    # for name_label column, append index to each element\n",
    "    name_count_df[name_label + '_seq'] = name_count_df[name_label].apply(\n",
    "        lambda x: [x[i] + ' -' + str(len(x) - 1 - i) for i in reversed(range(len(x)))]\n",
    "    )\n",
    "\n",
    "    for row in name_count_df.iterrows():\n",
    "        journey = row[1][name_label + '_seq']\n",
    "        averages = row[1]['times']\n",
    "        for i in range(len(journey) - 1):\n",
    "            if (journey[i], journey[i + 1]) in transition_to_metadata:\n",
    "                transition_to_metadata[(journey[i], journey[i + 1])][\"count\"] += row[1][count_label]\n",
    "                transition_to_metadata[(journey[i], journey[i + 1])][\"times\"].extend(averages[i])\n",
    "            else:\n",
    "                transition_to_metadata[(journey[i], journey[i + 1])] = {\"count\": row[1][count_label], \"times\": averages[i]}\n",
    "\n",
    "    nodes = list(set([transition[0] for transition in transition_to_metadata.keys()] + [transition[1] for transition in transition_to_metadata.keys()]))\n",
    "    links = [{'source': transition[1], 'target': transition[0],\n",
    "              'value': metadata[\"count\"], \"median\": median(metadata[\"times\"])} for transition, metadata in transition_to_metadata.items()]\n",
    "    return nodes, links"
   ]
  },
  {
   "cell_type": "code",
   "execution_count": null,
   "metadata": {},
   "outputs": [],
   "source": [
    "timeline_df = pd.read_csv(\"../output/final_output.csv\")\n",
    "timeline_df = timeline_df.drop_duplicates()\n",
    "timeline_df"
   ]
  },
  {
   "cell_type": "code",
   "execution_count": null,
   "metadata": {},
   "outputs": [],
   "source": [
    "timeline_exclude_minutes_df = timeline_df[((timeline_df[\"exact_timing\"] > 1) & (timeline_df[\"exact_timing\"] < 17520)) | (timeline_df[\"exact_timing\"] < -1)]\n",
    "timeline_exclude_minutes_df"
   ]
  },
  {
   "cell_type": "code",
   "execution_count": null,
   "metadata": {},
   "outputs": [],
   "source": [
    "len(timeline_exclude_minutes_df.uid.unique())"
   ]
  },
  {
   "cell_type": "code",
   "execution_count": null,
   "metadata": {},
   "outputs": [],
   "source": [
    "import numpy as np\n",
    "\n",
    "timeline_grouped_df = timeline_exclude_minutes_df.groupby(\"uid\").agg(tuple).reset_index().groupby(\"category\").agg(list).reset_index()\n",
    "timeline_grouped_df[\"cnt\"] = timeline_grouped_df.exact_timing.apply(len)\n",
    "timeline_grouped_df.columns = [\"journey\", \"uid\", \"times\", \"cnt\"]\n",
    "\n",
    "def fix_journey(row):\n",
    "    # if the journey does not contain Death of victim as the final state, then add it\n",
    "    if row[\"journey\"][-1] != \"Death of victim\":\n",
    "        return row[\"journey\"] + (\"Death of victim\",)\n",
    "    else:\n",
    "        return row[\"journey\"]\n",
    "    \n",
    "def fix_times(row):\n",
    "    new_times = []\n",
    "    for time in row[\"times\"]:\n",
    "        max_number = max(time)\n",
    "        if max_number > 0:\n",
    "            new_times.append([-x if x > 0 else x for x in time])\n",
    "        else:\n",
    "            new_times.append(time)\n",
    "    # if the journey does not contain Death of victim as the final state, then add it\n",
    "    if row[\"journey\"] and row[\"journey\"][-1] != \"Death of victim\":\n",
    "        return new_times + [0]\n",
    "    return new_times\n",
    "\n",
    "timeline_grouped_df[\"journey\"] = timeline_grouped_df.apply(fix_journey, axis=1)\n",
    "timeline_grouped_df[\"times_fixed\"] = timeline_grouped_df.apply(fix_times, axis=1)\n",
    "timeline_grouped_df[\"times\"] = timeline_grouped_df[\"times_fixed\"].apply(lambda x: np.transpose(x).tolist())"
   ]
  },
  {
   "cell_type": "code",
   "execution_count": null,
   "metadata": {},
   "outputs": [],
   "source": [
    "timeline_grouped_df = timeline_grouped_df.sort_values(\"cnt\", ascending=False)"
   ]
  },
  {
   "cell_type": "code",
   "execution_count": null,
   "metadata": {},
   "outputs": [],
   "source": [
    "timeline_grouped_df"
   ]
  },
  {
   "cell_type": "code",
   "execution_count": null,
   "metadata": {},
   "outputs": [],
   "source": [
    "timeline_grouped_trunc_4 = timeline_grouped_df.copy()\n",
    "timeline_grouped_trunc_4[\"journey\"] = timeline_grouped_trunc_4[\"journey\"].apply(lambda x: x[-4:])"
   ]
  },
  {
   "cell_type": "code",
   "execution_count": null,
   "metadata": {},
   "outputs": [],
   "source": [
    "nodes, links = transition_to_nodes_and_links_v2(\n",
    "    timeline_grouped_trunc_4, name_label=\"journey\", count_label='cnt')\n",
    "fig = go.Figure(data=[go.Sankey(\n",
    "    node=dict(pad=15, thickness=20, line=dict(color='black', width=0.5), label=nodes),\n",
    "    link=dict(source=[nodes.index(link['source']) for link in links],\n",
    "              target=[nodes.index(link['target']) for link in links],\n",
    "              label=[f'Median days for transition: {link[\"median\"] / 24}' for link in links],\n",
    "              value=[link['value'] for link in links if link[\"value\"] > 30])\n",
    ")])\n",
    "fig.show()"
   ]
  },
  {
   "cell_type": "code",
   "execution_count": null,
   "metadata": {},
   "outputs": [],
   "source": [
    "timeline_grouped_df[timeline_grouped_df[\"journey\"].apply(lambda x: \"History of suicide attempt\" in x)]"
   ]
  },
  {
   "cell_type": "code",
   "execution_count": null,
   "metadata": {},
   "outputs": [],
   "source": [
    "one_attempt_list = timeline_grouped_df[timeline_grouped_df[\"journey\"] == (\"History of suicide attempt\", \"Death of victim\")].times.tolist()\n",
    "# recursively flatten one_attempt_list\n",
    "def flatten(S):\n",
    "    if S == []:\n",
    "        return S\n",
    "    if isinstance(S[0], list):\n",
    "        return flatten(S[0]) + flatten(S[1:])\n",
    "    return S[:1] + flatten(S[1:])\n",
    "\n",
    "one_attempt_list = flatten(one_attempt_list)"
   ]
  },
  {
   "cell_type": "code",
   "execution_count": null,
   "metadata": {},
   "outputs": [],
   "source": [
    "import matplotlib.pyplot as plt\n",
    "\n",
    "plt.hist([abs(x) // 24 for x in one_attempt_list if 60 <= abs(x) // 24 <= 720])\n",
    "plt.xlabel('Days')\n",
    "plt.ylabel('Frequency')\n",
    "plt.title('Days until suicide when SuicideAttempt = 1')\n",
    "plt.show()"
   ]
  },
  {
   "cell_type": "code",
   "execution_count": null,
   "metadata": {},
   "outputs": [],
   "source": [
    "many_attempt_list = timeline_grouped_df[timeline_grouped_df[\"journey\"].apply(lambda x: x.count(\"History of suicide attempt\") == 2)].times.tolist()\n",
    "many_attempt_list = flatten(many_attempt_list)\n",
    "\n",
    "plt.hist([abs(x) // 24 for x in many_attempt_list if 30 <= abs(x) // 24 <= 720])\n",
    "plt.xlabel('Days')\n",
    "plt.ylabel('Frequency')\n",
    "plt.title('Days until suicide when SuicideAttempt > 1')\n",
    "plt.show()"
   ]
  },
  {
   "cell_type": "code",
   "execution_count": null,
   "metadata": {},
   "outputs": [],
   "source": [
    "timeline_grouped_df[timeline_grouped_df[\"journey\"].apply(lambda x: x[-3:] == (\"History of suicide attempt\", \"History of suicide attempt\", \"Death of victim\"))]"
   ]
  }
 ],
 "metadata": {
  "kernelspec": {
   "display_name": ".venv",
   "language": "python",
   "name": "python3"
  },
  "language_info": {
   "codemirror_mode": {
    "name": "ipython",
    "version": 3
   },
   "file_extension": ".py",
   "mimetype": "text/x-python",
   "name": "python",
   "nbconvert_exporter": "python",
   "pygments_lexer": "ipython3",
   "version": "3.9.4"
  },
  "orig_nbformat": 4
 },
 "nbformat": 4,
 "nbformat_minor": 2
}
